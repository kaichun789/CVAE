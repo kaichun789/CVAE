{
 "cells": [
  {
   "cell_type": "code",
   "execution_count": 131,
   "metadata": {},
   "outputs": [],
   "source": [
    "import numpy as np\n",
    "import matplotlib.pyplot as plt\n",
    "from sklearn import datasets\n",
    "from keras.datasets import mnist\n",
    "from keras.models import Model,Sequential\n",
    "from keras.layers import Input,Dense,concatenate,Lambda,Conv2D,MaxPooling2D,BatchNormalization,Flatten\n",
    "from keras.optimizers import Adam\n",
    "import keras.backend as K"
   ]
  },
  {
   "cell_type": "code",
   "execution_count": 124,
   "metadata": {},
   "outputs": [
    {
     "name": "stdout",
     "output_type": "stream",
     "text": [
      "(1797, 10)\n"
     ]
    },
    {
     "data": {
      "image/png": "[encoded data removed]",
      "text/plain": [
       "<Figure size 432x288 with 1 Axes>"
      ]
     },
     "metadata": {
      "needs_background": "light"
     },
     "output_type": "display_data"
    }
   ],
   "source": [
    "img_size = 8\n",
    "label_size = 10\n",
    "n_in = img_size**2\n",
    "n_out = img_size**2\n",
    "n_z = 2\n",
    "m = 3\n",
    "\n",
    "digits_data = datasets.load_digits()\n",
    "x_train = np.asarray(digits_data.data)\n",
    "x_train /= 16\n",
    "t_vector = digits_data.target\n",
    "t_train = np.eye(len(np.unique(t_vector)))[t_vector]\n",
    "\n",
    "#data = mnist.load_data()\n",
    "#((x_train,t_train),(x_test,t_test)) = data\n",
    "#x_train = (x_train.reshape(60000,784)/255).astype('float32')\n",
    "#x_test = (x_test.reshape(10000,784)/255).astype('float32')\n",
    "#t_train = keras.utils.to_categorical(t_train,len(np.unique(t_train)))\n",
    "#t_test = keras.utils.to_categorical(t_test,len(np.unique(t_test)))\n",
    "print(t_train.shape)\n",
    "\n",
    "plt.imshow(x_train[0,:].reshape(8,-1),cmap='gray')\n",
    "plt.axis('off')\n",
    "plt.show()"
   ]
  },
  {
   "cell_type": "code",
   "execution_count": 125,
   "metadata": {},
   "outputs": [
    {
     "name": "stdout",
     "output_type": "stream",
     "text": [
      "Model: \"model_23\"\n",
      "__________________________________________________________________________________________________\n",
      "Layer (type)                    Output Shape         Param #     Connected to                     \n",
      "==================================================================================================\n",
      "input_64 (InputLayer)           (3, 64)              0                                            \n",
      "__________________________________________________________________________________________________\n",
      "input_65 (InputLayer)           (3, 10)              0                                            \n",
      "__________________________________________________________________________________________________\n",
      "concatenate_42 (Concatenate)    (3, 74)              0           input_64[0][0]                   \n",
      "                                                                 input_65[0][0]                   \n",
      "__________________________________________________________________________________________________\n",
      "dense_80 (Dense)                (3, 128)             9600        concatenate_42[0][0]             \n",
      "__________________________________________________________________________________________________\n",
      "dense_81 (Dense)                (3, 2)               258         dense_80[0][0]                   \n",
      "__________________________________________________________________________________________________\n",
      "dense_82 (Dense)                (3, 2)               258         dense_80[0][0]                   \n",
      "__________________________________________________________________________________________________\n",
      "lambda_17 (Lambda)              (3, 2)               0           dense_81[0][0]                   \n",
      "                                                                 dense_82[0][0]                   \n",
      "__________________________________________________________________________________________________\n",
      "concatenate_43 (Concatenate)    (3, 12)              0           lambda_17[0][0]                  \n",
      "                                                                 input_65[0][0]                   \n",
      "__________________________________________________________________________________________________\n",
      "dense_83 (Dense)                (3, 128)             1664        concatenate_43[0][0]             \n",
      "__________________________________________________________________________________________________\n",
      "dense_84 (Dense)                (3, 64)              8256        dense_83[0][0]                   \n",
      "==================================================================================================\n",
      "Total params: 20,036\n",
      "Trainable params: 20,036\n",
      "Non-trainable params: 0\n",
      "__________________________________________________________________________________________________\n",
      "Model: \"model_24\"\n",
      "__________________________________________________________________________________________________\n",
      "Layer (type)                    Output Shape         Param #     Connected to                     \n",
      "==================================================================================================\n",
      "input_66 (InputLayer)           (None, 2)            0                                            \n",
      "__________________________________________________________________________________________________\n",
      "input_67 (InputLayer)           (None, 10)           0                                            \n",
      "__________________________________________________________________________________________________\n",
      "concatenate_44 (Concatenate)    (None, 12)           0           input_66[0][0]                   \n",
      "                                                                 input_67[0][0]                   \n",
      "__________________________________________________________________________________________________\n",
      "dense_83 (Dense)                multiple             1664        concatenate_44[0][0]             \n",
      "__________________________________________________________________________________________________\n",
      "dense_84 (Dense)                multiple             8256        dense_83[1][0]                   \n",
      "==================================================================================================\n",
      "Total params: 9,920\n",
      "Trainable params: 9,920\n",
      "Non-trainable params: 0\n",
      "__________________________________________________________________________________________________\n"
     ]
    }
   ],
   "source": [
    "def sample_z(args):\n",
    "    mu, log_sigma = args\n",
    "    #eps = K.random_normal(shape=(m, n_z), mean=0., std=1.)\n",
    "    eps = K.random_normal(shape=(m, n_z), mean=0.)\n",
    "    return mu + K.exp(log_sigma / 2.) * eps\n",
    "\n",
    "img_input = Input(batch_shape=(m,img_size*img_size)) \n",
    "label_input = Input(batch_shape=(m,label_size))\n",
    "inputs = concatenate([img_input,label_input],axis=1)\n",
    "encoder_hidden = Dense(128,activation='relu')(inputs)\n",
    "mu = Dense(n_z,activation='linear')(encoder_hidden)\n",
    "sigma = Dense(n_z,activation='linear')(encoder_hidden)\n",
    "z = Lambda(sample_z)([mu, sigma])\n",
    "z_cond = concatenate([z, label_input],axis=1)\n",
    "decoder_hidden = Dense(128, activation='relu')\n",
    "decoder_hidden_cvae = decoder_hidden(z_cond)\n",
    "decoder_output = Dense(img_size*img_size, activation='sigmoid')\n",
    "output = decoder_output(decoder_hidden_cvae)\n",
    "\n",
    "#CVAE\n",
    "cvae = Model([img_input,label_input],output)\n",
    "cvae.summary()\n",
    "\n",
    "#Decoder\n",
    "d_z_input = Input(shape=(n_z,))\n",
    "d_label_input = Input(shape=(label_size,))\n",
    "d_cond = concatenate([d_z_input,d_label_input],axis=1)\n",
    "d_hidden = decoder_hidden(d_cond)\n",
    "d_output = decoder_output(d_hidden)\n",
    "decoder = Model([d_z_input,d_label_input],d_output)\n",
    "\n",
    "decoder.summary()"
   ]
  },
  {
   "cell_type": "code",
   "execution_count": 126,
   "metadata": {},
   "outputs": [],
   "source": [
    "def vae_loss(y_true, y_pred):\n",
    "    \"\"\" Calculate loss = reconstruction loss + KL loss for eatch data in minibatch \"\"\"\n",
    "    # E[log P(X|z)]\n",
    "    recon = K.sum(K.binary_crossentropy(y_pred, y_true), axis=1)\n",
    "    # D_KL(Q(z|X) || P(z|X)); calculate in closed from as both dist. are Gaussian\n",
    "    kl = 0.5 * K.sum(K.exp(sigma) + K.square(mu) - 1. - sigma, axis=1)\n",
    "    \n",
    "    return recon + kl\n",
    "\n",
    "cvae.compile(loss=vae_loss,optimizer=Adam())"
   ]
  },
  {
   "cell_type": "code",
   "execution_count": 127,
   "metadata": {},
   "outputs": [],
   "source": [
    "history = cvae.fit([x_train,t_train],x_train,batch_size=m,epochs=150,verbose=0)"
   ]
  },
  {
   "cell_type": "code",
   "execution_count": 128,
   "metadata": {},
   "outputs": [
    {
     "data": {
      "image/png": "[encoded data removed]",
      "text/plain": [
       "<Figure size 432x288 with 1 Axes>"
      ]
     },
     "metadata": {
      "needs_background": "light"
     },
     "output_type": "display_data"
    }
   ],
   "source": [
    "plt.plot(history.history['loss'])\n",
    "plt.title('Train Loss',fontsize=20)\n",
    "plt.show()"
   ]
  },
  {
   "cell_type": "code",
   "execution_count": 129,
   "metadata": {},
   "outputs": [
    {
     "data": {
      "image/png": "[encoded data removed]",
      "text/plain": [
       "<Figure size 1440x144 with 10 Axes>"
      ]
     },
     "metadata": {
      "needs_background": "light"
     },
     "output_type": "display_data"
    }
   ],
   "source": [
    "from keras.utils import np_utils\n",
    "digit_size = 8\n",
    "\n",
    "z_sample = np.random.rand(1, n_z) # random \n",
    "\n",
    "plt.figure(figsize=(20, 2))\n",
    "for i in range(10):\n",
    "    c = np_utils.to_categorical(i,label_size)\n",
    "    #x_decoded = decoder.predict([z_sample, c])\n",
    "    x_decoded = decoder.predict([z_sample,np.array([c])])\n",
    "    digit = x_decoded[0].reshape(digit_size, digit_size)\n",
    "\n",
    "    plt.subplot(1, label_size, i+1)\n",
    "    plt.axis('off')\n",
    "    plt.imshow(digit, cmap='Greys_r',)\n",
    "plt.show()"
   ]
  },
  {
   "cell_type": "code",
   "execution_count": 140,
   "metadata": {},
   "outputs": [
    {
     "data": {
      "image/png": "[encoded data removed]",
      "text/plain": [
       "<Figure size 1440x144 with 10 Axes>"
      ]
     },
     "metadata": {
      "needs_background": "light"
     },
     "output_type": "display_data"
    },
    {
     "data": {
      "image/png": "[encoded data removed]",
      "text/plain": [
       "<Figure size 1440x144 with 10 Axes>"
      ]
     },
     "metadata": {
      "needs_background": "light"
     },
     "output_type": "display_data"
    },
    {
     "data": {
      "image/png": "[encoded data removed]",
      "text/plain": [
       "<Figure size 1440x144 with 10 Axes>"
      ]
     },
     "metadata": {
      "needs_background": "light"
     },
     "output_type": "display_data"
    },
    {
     "data": {
      "image/png": "[encoded data removed]",
      "text/plain": [
       "<Figure size 1440x144 with 10 Axes>"
      ]
     },
     "metadata": {
      "needs_background": "light"
     },
     "output_type": "display_data"
    },
    {
     "data": {
      "image/png": "[encoded data removed]",
      "text/plain": [
       "<Figure size 1440x144 with 10 Axes>"
      ]
     },
     "metadata": {
      "needs_background": "light"
     },
     "output_type": "display_data"
    },
    {
     "data": {
      "image/png": "[encoded data removed]",
      "text/plain": [
       "<Figure size 1440x144 with 10 Axes>"
      ]
     },
     "metadata": {
      "needs_background": "light"
     },
     "output_type": "display_data"
    },
    {
     "data": {
      "image/png": "[encoded data removed]",
      "text/plain": [
       "<Figure size 1440x144 with 10 Axes>"
      ]
     },
     "metadata": {
      "needs_background": "light"
     },
     "output_type": "display_data"
    },
    {
     "data": {
      "image/png": "[encoded data removed]",
      "text/plain": [
       "<Figure size 1440x144 with 10 Axes>"
      ]
     },
     "metadata": {
      "needs_background": "light"
     },
     "output_type": "display_data"
    },
    {
     "data": {
      "image/png": "[encoded data removed]",
      "text/plain": [
       "<Figure size 1440x144 with 10 Axes>"
      ]
     },
     "metadata": {
      "needs_background": "light"
     },
     "output_type": "display_data"
    },
    {
     "data": {
      "image/png": "[encoded data removed]",
      "text/plain": [
       "<Figure size 1440x144 with 10 Axes>"
      ]
     },
     "metadata": {
      "needs_background": "light"
     },
     "output_type": "display_data"
    }
   ],
   "source": [
    "for j in range(10):\n",
    "    c = np_utils.to_categorical(j,label_size)\n",
    "\n",
    "    plt.figure(figsize=(20, 2))\n",
    "    for i in range(10):\n",
    "        #z_sample = np.array([[0.1 * i, 0.1*i]])\n",
    "        z_sample = np.array([np.full(n_z,0.1*i)])\n",
    "        #z_sample = np.array([[0.1*i,1-0.1*i]])\n",
    "        x_decoded = decoder.predict([z_sample, np.array([c])])\n",
    "        digit = x_decoded[0].reshape(digit_size, digit_size)\n",
    "\n",
    "        plt.subplot(1, label_size, i+1)\n",
    "        plt.axis('off')\n",
    "        plt.imshow(digit, cmap='Greys_r',)\n",
    "plt.show()"
   ]
  },
  {
   "cell_type": "code",
   "execution_count": null,
   "metadata": {},
   "outputs": [],
   "source": []
  }
 ],
 "metadata": {
  "kernelspec": {
   "display_name": "Python 3",
   "language": "python",
   "name": "python3"
  },
  "language_info": {
   "codemirror_mode": {
    "name": "ipython",
    "version": 3
   },
   "file_extension": ".py",
   "mimetype": "text/x-python",
   "name": "python",
   "nbconvert_exporter": "python",
   "pygments_lexer": "ipython3",
   "version": "3.7.6"
  }
 },
 "nbformat": 4,
 "nbformat_minor": 4
}
